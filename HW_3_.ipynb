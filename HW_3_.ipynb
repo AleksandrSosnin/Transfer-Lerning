{
  "cells": [
    {
      "cell_type": "markdown",
      "metadata": {
        "id": "view-in-github",
        "colab_type": "text"
      },
      "source": [
        "<a href=\"https://colab.research.google.com/github/AleksandrSosnin/Transfer-Lerning/blob/main/HW_3_.ipynb\" target=\"_parent\"><img src=\"https://colab.research.google.com/assets/colab-badge.svg\" alt=\"Open In Colab\"/></a>"
      ]
    },
    {
      "cell_type": "markdown",
      "metadata": {
        "id": "W2yOM48zCXEi"
      },
      "source": [
        "# Transfer learning\n",
        "\n",
        "## Урок 3. Model as a service и разные применения Transfer learning\n",
        "\n",
        "### Практическое задание\n",
        "\n",
        "Реализуйте классификацию эмоциональной окрашенности текстов при помощи объекта pipeline.\n",
        "1. Найдите тип задач Sentiment Analysis на huggingface.co\n",
        "2. Найдите модель для русского языка (примеры: rubert-tiny2..., rubert-base...)\n"
      ]
    },
    {
      "cell_type": "code",
      "execution_count": null,
      "metadata": {
        "colab": {
          "base_uri": "https://localhost:8080/"
        },
        "id": "agLccDYJ_Q0I",
        "outputId": "35e61dc1-3ba6-4606-ccfe-f18e8596f5ff"
      },
      "outputs": [
        {
          "name": "stdout",
          "output_type": "stream",
          "text": [
            "Requirement already satisfied: transformers in /usr/local/lib/python3.11/dist-packages (4.51.3)\n",
            "Requirement already satisfied: filelock in /usr/local/lib/python3.11/dist-packages (from transformers) (3.18.0)\n",
            "Requirement already satisfied: huggingface-hub<1.0,>=0.30.0 in /usr/local/lib/python3.11/dist-packages (from transformers) (0.30.2)\n",
            "Requirement already satisfied: numpy>=1.17 in /usr/local/lib/python3.11/dist-packages (from transformers) (2.0.2)\n",
            "Requirement already satisfied: packaging>=20.0 in /usr/local/lib/python3.11/dist-packages (from transformers) (24.2)\n",
            "Requirement already satisfied: pyyaml>=5.1 in /usr/local/lib/python3.11/dist-packages (from transformers) (6.0.2)\n",
            "Requirement already satisfied: regex!=2019.12.17 in /usr/local/lib/python3.11/dist-packages (from transformers) (2024.11.6)\n",
            "Requirement already satisfied: requests in /usr/local/lib/python3.11/dist-packages (from transformers) (2.32.3)\n",
            "Requirement already satisfied: tokenizers<0.22,>=0.21 in /usr/local/lib/python3.11/dist-packages (from transformers) (0.21.1)\n",
            "Requirement already satisfied: safetensors>=0.4.3 in /usr/local/lib/python3.11/dist-packages (from transformers) (0.5.3)\n",
            "Requirement already satisfied: tqdm>=4.27 in /usr/local/lib/python3.11/dist-packages (from transformers) (4.67.1)\n",
            "Requirement already satisfied: fsspec>=2023.5.0 in /usr/local/lib/python3.11/dist-packages (from huggingface-hub<1.0,>=0.30.0->transformers) (2025.3.2)\n",
            "Requirement already satisfied: typing-extensions>=3.7.4.3 in /usr/local/lib/python3.11/dist-packages (from huggingface-hub<1.0,>=0.30.0->transformers) (4.13.2)\n",
            "Requirement already satisfied: charset-normalizer<4,>=2 in /usr/local/lib/python3.11/dist-packages (from requests->transformers) (3.4.1)\n",
            "Requirement already satisfied: idna<4,>=2.5 in /usr/local/lib/python3.11/dist-packages (from requests->transformers) (3.10)\n",
            "Requirement already satisfied: urllib3<3,>=1.21.1 in /usr/local/lib/python3.11/dist-packages (from requests->transformers) (2.3.0)\n",
            "Requirement already satisfied: certifi>=2017.4.17 in /usr/local/lib/python3.11/dist-packages (from requests->transformers) (2025.1.31)\n"
          ]
        }
      ],
      "source": [
        "!pip install transformers"
      ]
    },
    {
      "cell_type": "code",
      "execution_count": null,
      "metadata": {
        "id": "kDjRZ7SdCTt9"
      },
      "outputs": [],
      "source": [
        "from transformers import pipeline"
      ]
    },
    {
      "cell_type": "markdown",
      "metadata": {
        "id": "vLflGEetNoGf"
      },
      "source": [
        "Модель RuBERT, доработанная для классификации эмоций в коротких текстах на русском языке.  \n",
        "https://huggingface.co/seara/rubert-base-cased-ru-go-emotions"
      ]
    },
    {
      "cell_type": "code",
      "execution_count": null,
      "metadata": {
        "colab": {
          "base_uri": "https://localhost:8080/",
          "height": 350,
          "referenced_widgets": [
            "7ef10508e56b4c16a64b28378a4c7e52",
            "f969fcac785f4f449f2feff582233101",
            "bb6cbb56b49d4514ae4cdd5395e03b4b",
            "30bda25bf2634524b9135d5bcb98e7ae",
            "1eca7854d2fb4587a9e14c1a69cbb892",
            "29a7ae7fe2c44abeb2f39e31c3ab677e",
            "251182f798454018badac7256845e5b4",
            "2ccbc30870684c578bbf94f81087ad84",
            "f6987d359ac6445c92cef512912af3ef",
            "6cb034cc3f774a2d96290882ce8d7212",
            "035d9210736144f48af362d920908d40",
            "a2b192157e494e42832a9d98151326bc",
            "bcd7f1191c3044c792c8f5a774f820b4",
            "9c92403849cb435cb47cede68ed9a0e4",
            "2bd04e8e2b5f44ce8e8c367457cd9fcc",
            "d48b7b85be344c3cac2b516d429a667e",
            "7409765dab7345c7b1330a55584ff974",
            "5acd66cfac5545409b21271f0449c6b9",
            "75431d6914344606a5920cb387e4fbbd",
            "67d642f781314169b971277d7224e8c5",
            "ae128bb65e7947c48da2108d53eddb80",
            "eadc36a9aae54ecfb44e9d5368153d1d",
            "74d3aedc572f45f69a838aa43d89f3b2",
            "4a83a15b465044b584ccf0117ba70036",
            "d95fd58bf29d43fd897e6cbf08aa499d",
            "ad90d26850294f22a95e0cf1fcff39f2",
            "19910c0efab9458cb97eedd882a008e4",
            "d5b6cf384ea947b3be469563e4b2988d",
            "5a09bcca3b3b46feac92a767c28152d5",
            "e1fba87e0a834f81b576883ad5c6ab41",
            "3861baf4feb44bcf800f629e834f0044",
            "2e875aff66164e838956fa070edc1c0f",
            "56309c6e82db41308c4f388d4b665a72",
            "39f2fddb73e94b51ba22ef050c3a00dd",
            "728eb76e85b8439c9eaa8f050ffe418e",
            "a25460fde97f41fba7b386213e09ba7e",
            "3d72cd585f15464997d40326befd39fc",
            "740a463145b948bd855ec51449dd2933",
            "f815d9a9393448a188766a1975198732",
            "cc7e322c844e4750a63b33a0e7704f2d",
            "2b6f95f2f6144921b4572aea86fced9d",
            "2716b4537d9c432eb81b4d6b762b01b7",
            "e5c56184cdd3448993477f49dcfc9ae1",
            "5ac46415701a4efa9516a76257ba9a00",
            "debd65751360410fbd836d25b281940d",
            "95a695b2ef3d464982b2a8bf2417d3bb",
            "c78bc432d4634847b778ca5446c564d6",
            "54ae6d9cf8874944a8be8418d2abbc39",
            "fd048248bdd14d968c2a0511d67909ba",
            "8a79f6aabdac49a3aebe47d06b9880dc",
            "6eb7d19690a3487ab42d57fd6d4ebdd3",
            "eac5e9baff2241a4817ffcb36fa0b1a1",
            "433fd830a9bd456182a13e489e8f050c",
            "2c373a7541ab40ddbe4e5db5a627f347",
            "60ef3fd44d564bcda96702080f6053d2",
            "d32558d4eb6f4d0092e14c6c93f82aea",
            "0dd5b8cdcb5b46deadfb44c70be560ac",
            "c4814cf1b0f54d54b71e3291d9c255d4",
            "515a3dbaf44b4ad89a1fd62662f95556",
            "c474a079847347acab64fafd638bd43a",
            "4a52d0feb1a84e2a89a52c96d4c78bb1",
            "db6ee6561c7a4b7fa05d3b84033141dd",
            "6feec36925a848b6ab99c29d28c24a89",
            "f6306bab6f0944919af22585780c46b8",
            "6476c6826c9649ed8fd6bb4b2887dd33",
            "23beafe6aa6543d593f971b58e22444e"
          ]
        },
        "id": "IWV6E2NfC0Dd",
        "outputId": "0a0c1711-d398-4f43-96b2-0f81337e3cae"
      },
      "outputs": [
        {
          "name": "stderr",
          "output_type": "stream",
          "text": [
            "/usr/local/lib/python3.11/dist-packages/huggingface_hub/utils/_auth.py:94: UserWarning: \n",
            "The secret `HF_TOKEN` does not exist in your Colab secrets.\n",
            "To authenticate with the Hugging Face Hub, create a token in your settings tab (https://huggingface.co/settings/tokens), set it as secret in your Google Colab and restart your session.\n",
            "You will be able to reuse this secret in all of your notebooks.\n",
            "Please note that authentication is recommended but still optional to access public models or datasets.\n",
            "  warnings.warn(\n"
          ]
        },
        {
          "data": {
            "application/vnd.jupyter.widget-view+json": {
              "model_id": "7ef10508e56b4c16a64b28378a4c7e52",
              "version_major": 2,
              "version_minor": 0
            },
            "text/plain": [
              "config.json:   0%|          | 0.00/2.11k [00:00<?, ?B/s]"
            ]
          },
          "metadata": {},
          "output_type": "display_data"
        },
        {
          "data": {
            "application/vnd.jupyter.widget-view+json": {
              "model_id": "a2b192157e494e42832a9d98151326bc",
              "version_major": 2,
              "version_minor": 0
            },
            "text/plain": [
              "model.safetensors:   0%|          | 0.00/712M [00:00<?, ?B/s]"
            ]
          },
          "metadata": {},
          "output_type": "display_data"
        },
        {
          "data": {
            "application/vnd.jupyter.widget-view+json": {
              "model_id": "74d3aedc572f45f69a838aa43d89f3b2",
              "version_major": 2,
              "version_minor": 0
            },
            "text/plain": [
              "tokenizer_config.json:   0%|          | 0.00/395 [00:00<?, ?B/s]"
            ]
          },
          "metadata": {},
          "output_type": "display_data"
        },
        {
          "data": {
            "application/vnd.jupyter.widget-view+json": {
              "model_id": "39f2fddb73e94b51ba22ef050c3a00dd",
              "version_major": 2,
              "version_minor": 0
            },
            "text/plain": [
              "vocab.txt:   0%|          | 0.00/1.65M [00:00<?, ?B/s]"
            ]
          },
          "metadata": {},
          "output_type": "display_data"
        },
        {
          "data": {
            "application/vnd.jupyter.widget-view+json": {
              "model_id": "debd65751360410fbd836d25b281940d",
              "version_major": 2,
              "version_minor": 0
            },
            "text/plain": [
              "tokenizer.json:   0%|          | 0.00/3.57M [00:00<?, ?B/s]"
            ]
          },
          "metadata": {},
          "output_type": "display_data"
        },
        {
          "data": {
            "application/vnd.jupyter.widget-view+json": {
              "model_id": "d32558d4eb6f4d0092e14c6c93f82aea",
              "version_major": 2,
              "version_minor": 0
            },
            "text/plain": [
              "special_tokens_map.json:   0%|          | 0.00/125 [00:00<?, ?B/s]"
            ]
          },
          "metadata": {},
          "output_type": "display_data"
        },
        {
          "name": "stderr",
          "output_type": "stream",
          "text": [
            "Device set to use cpu\n"
          ]
        }
      ],
      "source": [
        "model = pipeline(model=\"seara/rubert-base-cased-ru-go-emotions\")"
      ]
    },
    {
      "cell_type": "code",
      "execution_count": null,
      "metadata": {
        "id": "A5y0aCvDCz_3"
      },
      "outputs": [],
      "source": [
        "texts = [\n",
        "    \"Отличный товар\",\n",
        "    \"Мне не понравилось\",\n",
        "    \"Прекрасно выглядит, ничего не меняйте!\",\n",
        "    \"Ничего не понял\",\n",
        "    \"У меня не работала розетка, в остальном все отлично\"\n",
        "]\n"
      ]
    },
    {
      "cell_type": "code",
      "execution_count": null,
      "metadata": {
        "colab": {
          "base_uri": "https://localhost:8080/"
        },
        "id": "GzyRLjRVCz8l",
        "outputId": "cf567465-d948-4bbd-d169-fb7777a82191"
      },
      "outputs": [
        {
          "name": "stdout",
          "output_type": "stream",
          "text": [
            "Текст: Отличный товар\n",
            "➡️ Эмоция: admiration (уверенность: 0.92)\n",
            "\n",
            "Текст: Мне не понравилось\n",
            "➡️ Эмоция: neutral (уверенность: 0.41)\n",
            "\n",
            "Текст: Прекрасно выглядит, ничего не меняйте!\n",
            "➡️ Эмоция: admiration (уверенность: 0.94)\n",
            "\n",
            "Текст: Ничего не понял\n",
            "➡️ Эмоция: neutral (уверенность: 0.42)\n",
            "\n",
            "Текст: У меня не работала розетка, в остальном все отлично\n",
            "➡️ Эмоция: amusement (уверенность: 0.4)\n",
            "\n"
          ]
        }
      ],
      "source": [
        "results = model(texts)\n",
        "for text, res in zip(texts, results):\n",
        "    print(f\"Текст: {text}\\n➡️ Эмоция: {res['label']} (уверенность: {round(res['score'], 2)})\\n\")\n"
      ]
    },
    {
      "cell_type": "code",
      "execution_count": null,
      "metadata": {
        "id": "XCDAa_wiE7uu"
      },
      "outputs": [],
      "source": [
        "label_ru = {\n",
        "    \"admiration\": \"восхищение\",\n",
        "    \"amusement\": \"веселье\",\n",
        "    \"anger\": \"злость\",\n",
        "    \"annoyance\": \"раздражение\",\n",
        "    \"approval\": \"одобрение\",\n",
        "    \"caring\": \"забота\",\n",
        "    \"confusion\": \"замешательство\",\n",
        "    \"curiosity\": \"любопытство\",\n",
        "    \"desire\": \"желание\",\n",
        "    \"disappointment\": \"разочарование\",\n",
        "    \"disapproval\": \"неодобрение\",\n",
        "    \"disgust\": \"отвращение\",\n",
        "    \"embarrassment\": \"смущение\",\n",
        "    \"excitement\": \"волнение\",\n",
        "    \"fear\": \"страх\",\n",
        "    \"gratitude\": \"благодарность\",\n",
        "    \"grief\": \"горе\",\n",
        "    \"joy\": \"радость\",\n",
        "    \"love\": \"любовь\",\n",
        "    \"nervousness\": \"нервозность\",\n",
        "    \"optimism\": \"оптимизм\",\n",
        "    \"pride\": \"гордость\",\n",
        "    \"realization\": \"осознание\",\n",
        "    \"relief\": \"облегчение\",\n",
        "    \"remorse\": \"раскаяние\",\n",
        "    \"sadness\": \"грусть\",\n",
        "    \"surprise\": \"удивление\",\n",
        "    \"neutral\": \"нейтрально\"\n",
        "}\n",
        "\n"
      ]
    },
    {
      "cell_type": "code",
      "execution_count": null,
      "metadata": {
        "id": "xizzsbqoKr1H"
      },
      "outputs": [],
      "source": [
        "def get_label_ru(result, label_ru):\n",
        "    label = result[0]['label']\n",
        "    score = result[0]['score']\n",
        "    return label_ru.get(label, \"неизвестно\"), round(score, 2)\n"
      ]
    },
    {
      "cell_type": "code",
      "execution_count": null,
      "metadata": {
        "colab": {
          "base_uri": "https://localhost:8080/"
        },
        "id": "waYfuE7-J7gv",
        "outputId": "fb60e152-06bb-4d27-a539-268d1492c404"
      },
      "outputs": [
        {
          "name": "stdout",
          "output_type": "stream",
          "text": [
            "Текст: Отличный курс, меня есть большое желание учиться, но плохо, что в данном курсе мало уроков и нет онлайн встреч\n",
            "Эмоция (англ): admiration\n",
            "Эмоция (рус): восхищение\n",
            "Уверенность: 0.93\n"
          ]
        }
      ],
      "source": [
        "example_text = [\"Отличный курс, меня есть большое желание учиться, но плохо, что в данном курсе мало уроков и нет онлайн встреч\"]\n",
        "\n",
        "example_result = model(example_text)\n",
        "\n",
        "def describe_emotion(result, label_ru):\n",
        "    label = result[0]['label']\n",
        "    score = result[0]['score']\n",
        "    label_ru_text = label_ru.get(label, \"неизвестно\")\n",
        "    return {\n",
        "        \"Текст\": example_text[0],\n",
        "        \"Эмоция (англ)\": label,\n",
        "        \"Эмоция (рус)\": label_ru_text,\n",
        "        \"Уверенность\": round(score, 2)\n",
        "    }\n",
        "\n",
        "emotion_info = describe_emotion(example_result, label_ru)\n",
        "\n",
        "for k, v in emotion_info.items():\n",
        "    print(f\"{k}: {v}\")\n",
        "\n"
      ]
    }
  ],
  "metadata": {
    "colab": {
      "provenance": [],
      "include_colab_link": true
    },
    "kernelspec": {
      "display_name": "Python 3",
      "name": "python3"
    },
    "language_info": {
      "name": "python"
    }
  },
  "nbformat": 4,
  "nbformat_minor": 0
}